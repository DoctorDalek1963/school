{
 "cells": [
  {
   "cell_type": "code",
   "execution_count": 45,
   "id": "ade812d3",
   "metadata": {},
   "outputs": [],
   "source": [
    "def first_fit(items: list[float], bin_size: float) -> list[list[float]]:\n",
    "    # Init the max number of bins\n",
    "    bins = [[]]\n",
    "    \n",
    "    for item in items:\n",
    "        for bin_ in bins:\n",
    "            if sum(bin_) + item <= bin_size:\n",
    "                bin_.append(item)\n",
    "                break\n",
    "        else:  # For clause\n",
    "            bins.append([item])\n",
    "        \n",
    "    return bins\n",
    "\n",
    "def first_fit_decreasing(items: list[float], bin_size: float) -> list[list[float]]:\n",
    "    return first_fit(sorted(items, reverse=True), bin_size)\n",
    "\n",
    "def first_fit_increasing(items: list[float], bin_size: float) -> list[list[float]]:\n",
    "    return first_fit(sorted(items), bin_size)"
   ]
  },
  {
   "cell_type": "code",
   "execution_count": 47,
   "id": "816c4404",
   "metadata": {},
   "outputs": [
    {
     "name": "stdout",
     "output_type": "stream",
     "text": [
      "FF 6 [[30, 30, 30, 45, 45], [60, 60, 60], [60, 75], [90], [120], [120]]\n",
      "\n",
      "FFD 5 [[120, 60], [120, 60], [90, 75], [60, 60, 45], [45, 30, 30, 30]]\n",
      "\n",
      "FFI 6 [[30, 30, 30, 45, 45], [60, 60, 60], [60, 75], [90], [120], [120]]\n"
     ]
    }
   ],
   "source": [
    "l = [30,30,30,45,45,60,60,60,60,75,90,120,120]\n",
    "size = 60*3\n",
    "\n",
    "ff = first_fit(l, size)\n",
    "print(f'FF ({len(ff)}) {ff}')\n",
    "print()\n",
    "ffd = first_fit_decreasing(l, size)\n",
    "print(f'FFD ({len(ffd)}) {ffd}')\n",
    "print()\n",
    "ffi = first_fit_increasing(l, size)\n",
    "print(f'FFI ({len(ffi)}) {ffi}')"
   ]
  },
  {
   "cell_type": "code",
   "execution_count": null,
   "id": "e1fbacdc",
   "metadata": {},
   "outputs": [],
   "source": []
  }
 ],
 "metadata": {
  "kernelspec": {
   "display_name": "Python 3 (ipykernel)",
   "language": "python",
   "name": "python3"
  },
  "language_info": {
   "codemirror_mode": {
    "name": "ipython",
    "version": 3
   },
   "file_extension": ".py",
   "mimetype": "text/x-python",
   "name": "python",
   "nbconvert_exporter": "python",
   "pygments_lexer": "ipython3",
   "version": "3.9.5"
  }
 },
 "nbformat": 4,
 "nbformat_minor": 5
}
