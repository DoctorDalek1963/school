{
 "cells": [
  {
   "cell_type": "code",
   "execution_count": 45,
   "id": "77256077",
   "metadata": {},
   "outputs": [],
   "source": [
    "def first_fit(items: list[float], bin_size: float) -> list[list[float]]:\n",
    "    # Init the max number of bins\n",
    "    bins = [[]]\n",
    "    \n",
    "    for item in items:\n",
    "        for bin_ in bins:\n",
    "            if sum(bin_) + item <= bin_size:\n",
    "                bin_.append(item)\n",
    "                break\n",
    "        else:  # For clause\n",
    "            bins.append([item])\n",
    "        \n",
    "    return bins\n",
    "\n",
    "def first_fit_decreasing(items: list[float], bin_size: float) -> list[list[float]]:\n",
    "    return first_fit(sorted(items, reverse=True), bin_size)\n",
    "\n",
    "def first_fit_increasing(items: list[float], bin_size: float) -> list[list[float]]:\n",
    "    return first_fit(sorted(items), bin_size)"
   ]
  },
  {
   "cell_type": "code",
   "execution_count": 52,
   "id": "064f3ac6",
   "metadata": {},
   "outputs": [
    {
     "name": "stdout",
     "output_type": "stream",
     "text": [
      "Optimal = 3\n",
      "FF (4) [[4, 7, 13, 6], [13, 4, 12], [14, 6], [11]]\n",
      "\n",
      "FFD (4) [[14, 13], [13, 12, 4], [11, 7, 6, 6], [4]]\n",
      "\n",
      "FFI (4) [[4, 4, 6, 6, 7], [11, 12], [13, 13], [14]]\n"
     ]
    }
   ],
   "source": [
    "l = [4,7,13,6,13,4,12,14,6,11]\n",
    "size = 30\n",
    "\n",
    "print(f'Optimal = {m.ceil(sum(l) / size)}')\n",
    "\n",
    "ff = first_fit(l, size)\n",
    "print(f'FF ({len(ff)}) {ff}')\n",
    "print()\n",
    "ffd = first_fit_decreasing(l, size)\n",
    "print(f'FFD ({len(ffd)}) {ffd}')\n",
    "print()\n",
    "ffi = first_fit_increasing(l, size)\n",
    "print(f'FFI ({len(ffi)}) {ffi}')"
   ]
  },
  {
   "cell_type": "code",
   "execution_count": null,
   "id": "30dabde7",
   "metadata": {},
   "outputs": [],
   "source": []
  }
 ],
 "metadata": {
  "kernelspec": {
   "display_name": "Python 3 (ipykernel)",
   "language": "python",
   "name": "python3"
  },
  "language_info": {
   "codemirror_mode": {
    "name": "ipython",
    "version": 3
   },
   "file_extension": ".py",
   "mimetype": "text/x-python",
   "name": "python",
   "nbconvert_exporter": "python",
   "pygments_lexer": "ipython3",
   "version": "3.9.5"
  }
 },
 "nbformat": 4,
 "nbformat_minor": 5
}
